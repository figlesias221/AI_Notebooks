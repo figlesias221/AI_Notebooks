{
 "cells": [
  {
   "cell_type": "code",
   "execution_count": null,
   "metadata": {},
   "outputs": [],
   "source": [
    "import sys\n",
    "# !{sys.executable} -m pip install -U gym"
   ]
  },
  {
   "cell_type": "code",
   "execution_count": null,
   "metadata": {},
   "outputs": [],
   "source": [
    "from riverCrossEnv import RiverCrossEnv\n",
    "from riverCrossUtils import finish, win\n",
    "from riverCrossGraph import RiverCrossGraph\n",
    "import riverCrossInputAgent as agent"
   ]
  },
  {
   "cell_type": "code",
   "execution_count": null,
   "metadata": {},
   "outputs": [],
   "source": [
    "def run():\n",
    "    \n",
    "    env = RiverCrossEnv()\n",
    "    g = RiverCrossGraph(1500, 200)\n",
    "    \n",
    "    done = False\n",
    "    obs = env.reset()\n",
    "    g.render_node(env, obs)\n",
    "    \n",
    "    while (not(done)):\n",
    "        env.render()\n",
    "        action = agent.input_action()        \n",
    "        next_obs, reward, done, debug = env.step(action)\n",
    "        g.render_edge(env, obs, next_obs, action, done, win(next_obs))\n",
    "        obs = next_obs\n",
    "       \n",
    "    env.render()\n",
    "    finish(obs)"
   ]
  },
  {
   "cell_type": "code",
   "execution_count": null,
   "metadata": {},
   "outputs": [],
   "source": [
    "#1\n",
    "def actionList():\n",
    "    env = RiverCrossEnv()\n",
    "    \n",
    "    done = False\n",
    "    obs = env.reset()\n",
    "    \n",
    "    list = [(0,1), (1,3), (0,2), (1,1), (0,0), (1,3), (0,1)]\n",
    "    \n",
    "    i=0\n",
    "    while (not(done) and i != len(list)):\n",
    "        env.render()\n",
    "        action = {\n",
    "            \"direction\": list[i][0],\n",
    "            \"passenger\": list[i][1]\n",
    "        }\n",
    "        next_obs, reward, done, debug = env.step(action)\n",
    "        obs = next_obs\n",
    "        i += 1\n",
    "        \n",
    "    env.render()\n",
    "    finish(obs)"
   ]
  },
  {
   "cell_type": "code",
   "execution_count": null,
   "metadata": {},
   "outputs": [],
   "source": [
    "#2\n",
    "def randomAction():\n",
    "    env = RiverCrossEnv()\n",
    "    \n",
    "    done = False\n",
    "    obs = env.reset()\n",
    "    \n",
    "    while (not(done)):\n",
    "        env.render()\n",
    "        \n",
    "        next_obs, reward, done, debug = env.step(env.action_space.sample())\n",
    "        obs = next_obs\n",
    "        \n",
    "    env.render()\n",
    "    finish(obs)"
   ]
  },
  {
   "cell_type": "code",
   "execution_count": null,
   "metadata": {},
   "outputs": [],
   "source": [
    "class AgentReflex():\n",
    "    list = [(0,1), (1,3), (0,2), (1,1), (0,0), (1,3), (0,1)]\n",
    "\n",
    "    def lookup(obs):\n",
    "        if obs == {'farmerSide': 0, 'cabbageSide': 0, 'goatSide': 0, 'wolfSide': 0}:\n",
    "            return {\n",
    "            \"direction\": 0,\n",
    "            \"passenger\": 1\n",
    "        }\n",
    "        elif obs == {'farmerSide': 1, 'cabbageSide': 0, 'goatSide': 1, 'wolfSide': 0}:\n",
    "            return {\n",
    "            \"direction\": 1,\n",
    "            \"passenger\": 3\n",
    "        }\n",
    "        elif obs == {'farmerSide': 0, 'cabbageSide': 0, 'goatSide': 1, 'wolfSide': 0}:\n",
    "            return {\n",
    "            \"direction\": 0,\n",
    "            \"passenger\": 2\n",
    "        }\n",
    "        elif obs == {'farmerSide': 1, 'cabbageSide': 0, 'goatSide': 1, 'wolfSide': 1}:\n",
    "            return {\n",
    "            \"direction\": 1,\n",
    "            \"passenger\": 1\n",
    "        }\n",
    "        elif obs == {'farmerSide': 0, 'cabbageSide': 0, 'goatSide': 0, 'wolfSide': 1}:\n",
    "            return {\n",
    "            \"direction\": 0,\n",
    "            \"passenger\": 0\n",
    "        }\n",
    "        elif obs == {'farmerSide': 1, 'cabbageSide': 1, 'goatSide': 0, 'wolfSide': 1}:\n",
    "            return {\n",
    "            \"direction\": 1,\n",
    "            \"passenger\": 3\n",
    "        }\n",
    "        elif obs == {'farmerSide': 0, 'cabbageSide': 1, 'goatSide': 0, 'wolfSide': 1}:\n",
    "            return {\n",
    "            \"direction\": 0,\n",
    "            \"passenger\": 1\n",
    "        }\n",
    "        else:\n",
    "            return {\n",
    "            \"direction\": 1,\n",
    "            \"passenger\": 1\n",
    "        }"
   ]
  },
  {
   "cell_type": "code",
   "execution_count": null,
   "metadata": {},
   "outputs": [],
   "source": [
    "# 3\n",
    "def reflexAction():\n",
    "    env = RiverCrossEnv()\n",
    "    \n",
    "    done = False\n",
    "    obs = env.reset()\n",
    "    \n",
    "    while (not(done)):\n",
    "        env.render()\n",
    "        \n",
    "        next_obs, reward, done, debug = env.step(AgentReflex.lookup(obs))\n",
    "        obs = next_obs\n",
    "        \n",
    "    env.render()\n",
    "    finish(obs)"
   ]
  },
  {
   "cell_type": "code",
   "execution_count": null,
   "metadata": {
    "scrolled": false,
    "slideshow": {
     "slide_type": "fragment"
    }
   },
   "outputs": [],
   "source": [
    "run()"
   ]
  }
 ],
 "metadata": {
  "kernelspec": {
   "display_name": "Python 3",
   "language": "python",
   "name": "python3"
  },
  "language_info": {
   "codemirror_mode": {
    "name": "ipython",
    "version": 3
   },
   "file_extension": ".py",
   "mimetype": "text/x-python",
   "name": "python",
   "nbconvert_exporter": "python",
   "pygments_lexer": "ipython3",
   "version": "3.7.6"
  }
 },
 "nbformat": 4,
 "nbformat_minor": 2
}
