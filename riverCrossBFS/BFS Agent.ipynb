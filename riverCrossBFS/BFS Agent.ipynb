{
 "cells": [
  {
   "cell_type": "code",
   "execution_count": 1,
   "metadata": {},
   "outputs": [],
   "source": [
    "from riverCrossEnv import RiverCrossEnv\n",
    "from riverCrossModel import RiverCrossModel"
   ]
  },
  {
   "cell_type": "code",
   "execution_count": 2,
   "metadata": {},
   "outputs": [],
   "source": [
    "env = RiverCrossEnv()\n",
    "model = RiverCrossModel()\n",
    "node, prev_node = model.BFS()"
   ]
  },
  {
   "cell_type": "code",
   "execution_count": null,
   "metadata": {},
   "outputs": [],
   "source": [
    "done = False\n",
    "path = [node]\n",
    "\n",
    "while not(done):\n",
    "    try:\n",
    "        prev_specific_node, action_to_reach_next = prev_node[node]\n",
    "        path.append((prev_specific_node, action_to_reach_next))\n",
    "        \n",
    "        node = prev_specific_node\n",
    "        \n",
    "    except:\n",
    "        done = True"
   ]
  }
 ],
 "metadata": {
  "kernelspec": {
   "display_name": "Python 3",
   "language": "python",
   "name": "python3"
  },
  "language_info": {
   "codemirror_mode": {
    "name": "ipython",
    "version": 3
   },
   "file_extension": ".py",
   "mimetype": "text/x-python",
   "name": "python",
   "nbconvert_exporter": "python",
   "pygments_lexer": "ipython3",
   "version": "3.7.6"
  }
 },
 "nbformat": 4,
 "nbformat_minor": 2
}
